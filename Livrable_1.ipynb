{
 "cells": [
  {
   "cell_type": "markdown",
   "source": [
    "# <center>Livrable 1<br />-<br /> Projet Ademe</center>"
   ],
   "metadata": {
    "collapsed": false
   }
  },
  {
   "cell_type": "markdown",
   "source": [
    "Global awareness of the need to reduce energy consumption and greenhouse gas emissions has grown since the 90s, with commitments such as the Kyoto Protocol and subsequent ambitious targets. Efforts are focused on changing behavior, emphasizing saving and recycling materials, improving transportation, and enhancing energy efficiency in buildings. However, challenges remain in enforcing change among companies and individuals."
   ],
   "metadata": {
    "collapsed": false
   },
   "outputs": [
    {
     "ename": "SyntaxError",
     "evalue": "invalid syntax (1611732956.py, line 1)",
     "output_type": "error",
     "traceback": [
      "\u001B[1;36m  Cell \u001B[1;32mIn[1], line 1\u001B[1;36m\u001B[0m\n\u001B[1;33m    Global awareness of the need to reduce energy consumption and greenhouse gas emissions has grown since the 90s, with commitments such as the Kyoto Protocol and subsequent ambitious targets. Efforts are focused on changing behavior, emphasizing saving and recycling materials, improving transportation, and enhancing energy efficiency in buildings. However, challenges remain in enforcing change among companies and individuals.\u001B[0m\n\u001B[1;37m           ^\u001B[0m\n\u001B[1;31mSyntaxError\u001B[0m\u001B[1;31m:\u001B[0m invalid syntax\n"
     ]
    }
   ],
   "execution_count": 1
  },
  {
   "cell_type": "markdown",
   "source": [
    "## Projet de Mobilité Multimodale Intelligente pour la Gestion de Tournées de Livraison\n",
    "\n",
    "### Description\n",
    "\n",
    "L'ADEME (Agence de l'Environnement et de la Maîtrise de l'Énergie) a récemment lancé un appel à manifestation d'intérêt visant à promouvoir la réalisation de démonstrateurs et d'expérimentations de nouvelles solutions de mobilité adaptées aux différents types de territoires, tant pour les personnes que pour les marchandises.\n",
    "\n",
    "CesiCDP, est déjà bien implantée dans le domaine de la Mobilité Multimodale Intelligente. Avec l'aide de nombreux partenaires, nous avons réalisé plusieurs études sur ce sujet. Les nouvelles technologies de transport, plus économiques et respectueuses de l'environnement, posent néanmoins de nouveaux défis, notamment en termes d'optimisation de la gestion des ressources. La logistique du transport représente un enjeu majeur pour l'avenir, car ses applications sont nombreuses (distribution du courrier, livraison de produits, traitement du réseau routier, ramassage des ordures) et leur impact sur l'environnement peut être significatif.\n",
    "\n",
    "L'équipe de CesiCDP, composée de 4 personnes, chargée de répondre à l'appel de l'ADEME. L'objectif est de remporter de nouveaux marchés bénéficiant de financements attractifs afin de poursuivre le développement de notre activité.\n",
    "\n",
    "CesiCDP a décidé de se concentrer sur l'étude de la gestion des tournées de livraison. Le problème algorithmique consiste à calculer une tournée sur un réseau routier reliant un sous-ensemble de villes, tout en minimisant la durée totale de la tournée, de sorte à revenir au point de départ.\n",
    "\n",
    "L'idée est de proposer une méthode basée sur la Recherche Opérationnelle pour générer une tournée de livraison répondant à ce problème.\n",
    "\n",
    "Le périmètre du projet doit encore être précisé. Nous avons décrit une version de base du problème, mais afin de le rendre plus réaliste et d'attirer toute l'attention de l'ADEME,il nous faudra ajouter une ou des contraintes supplémentaires. Cela rendra le problème plus complexe à résoudre.\n",
    "\n",
    "### Version de base\n",
    "\n",
    "- Choix d'un modèle et d'un code en Python capable de résoudre des instances de taille importante (plusieurs milliers de villes).\n",
    "- Étude statistique du comportement expérimental de l'algorithme.\n",
    "\n",
    "### Contraintes supplémentaires\n",
    "\n",
    "Voici une liste non exhaustive de contraintes qui pourraient être intégrées au périmètre de notre étude.\n",
    "\n",
    "Certaines contraintes disposent également de versions avancées.\n",
    "\n",
    "- Fenêtre de temps de livraison pour chaque objet\n",
    "    - Interdiction de livrer hors de la fenêtre\n",
    "    - Possibilité d'attendre sur place l'ouverture de la fenêtre temporelle\n",
    "\n",
    "- Disponibilité simultanée de k camions pour effectuer les livraisons\n",
    "    - Capacité des camions (2 ou 3 dimensions) et encombrement des objets\n",
    "    - Certains objets ne peuvent être livrés que par certains camions\n",
    "- Chaque objet a un point de collecte spécifique\n",
    "- Le temps de parcours d’une arête varie au cours du temps (ce qui revient à faire varier sa longueur), pour représenter la variation du trafic"
   ],
   "metadata": {
    "collapsed": false
   }
  },
  {
   "cell_type": "markdown",
   "source": [
    "### GIT Naming Convention\n",
    "We use the following convention : https://www.conventionalcommits.org/en/v1.0.0/\n",
    "\n",
    "fix(vue) in case we fix a bug\n",
    "docs(UML) in the case of minor changes to text or deliverables\n",
    "feat(backup) added new functionality\n",
    "BREAKING CHANGE:Explanations if you change a critical element of the application\n",
    "In the case of a breaking chancge composed of a fix or a structural element you can add a\n",
    "fix!(vue): Comment"
   ],
   "metadata": {
    "collapsed": false
   }
  }
 ],
 "metadata": {
  "kernelspec": {
   "display_name": "Python 3",
   "language": "python",
   "name": "python3"
  },
  "language_info": {
   "codemirror_mode": {
    "name": "ipython",
    "version": 2
   },
   "file_extension": ".py",
   "mimetype": "text/x-python",
   "name": "python",
   "nbconvert_exporter": "python",
   "pygments_lexer": "ipython2",
   "version": "2.7.6"
  }
 },
 "nbformat": 4,
 "nbformat_minor": 0
}
