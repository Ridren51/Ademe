{
 "cells": [
  {
   "cell_type": "markdown",
   "source": [
    "# <center>Livrable 1<br />-<br /> Projet Ademe</center>"
   ],
   "metadata": {
    "collapsed": false
   }
  },
  {
   "cell_type": "markdown",
   "source": [
    "Global awareness of the need to reduce energy consumption and greenhouse gas emissions has grown since the 90s, with commitments such as the Kyoto Protocol and subsequent ambitious targets. Efforts are focused on changing behavior, emphasizing saving and recycling materials, improving transportation, and enhancing energy efficiency in buildings. However, challenges remain in enforcing change among companies and individuals."
   ],
   "metadata": {
    "collapsed": false
   },
   "outputs": [
    {
     "ename": "SyntaxError",
     "evalue": "invalid syntax (1611732956.py, line 1)",
     "output_type": "error",
     "traceback": [
      "\u001B[1;36m  Cell \u001B[1;32mIn[1], line 1\u001B[1;36m\u001B[0m\n\u001B[1;33m    Global awareness of the need to reduce energy consumption and greenhouse gas emissions has grown since the 90s, with commitments such as the Kyoto Protocol and subsequent ambitious targets. Efforts are focused on changing behavior, emphasizing saving and recycling materials, improving transportation, and enhancing energy efficiency in buildings. However, challenges remain in enforcing change among companies and individuals.\u001B[0m\n\u001B[1;37m           ^\u001B[0m\n\u001B[1;31mSyntaxError\u001B[0m\u001B[1;31m:\u001B[0m invalid syntax\n"
     ]
    }
   ],
   "execution_count": 1
  },
  {
   "cell_type": "markdown",
   "source": [
    "## Projet de Mobilité Multimodale Intelligente pour la Gestion de Tournées de Livraison\n",
    "\n",
    "### Description\n",
    "\n",
    "L'ADEME (Agence de l'Environnement et de la Maîtrise de l'Énergie) a récemment lancé un appel à manifestation d'intérêt visant à promouvoir la réalisation de démonstrateurs et d'expérimentations de nouvelles solutions de mobilité adaptées aux différents types de territoires, tant pour les personnes que pour les marchandises.\n",
    "\n",
    "CesiCDP, est déjà bien implantée dans le domaine de la Mobilité Multimodale Intelligente. Avec l'aide de nombreux partenaires, nous avons réalisé plusieurs études sur ce sujet. Les nouvelles technologies de transport, plus économiques et respectueuses de l'environnement, posent néanmoins de nouveaux défis, notamment en termes d'optimisation de la gestion des ressources. La logistique du transport représente un enjeu majeur pour l'avenir, car ses applications sont nombreuses (distribution du courrier, livraison de produits, traitement du réseau routier, ramassage des ordures) et leur impact sur l'environnement peut être significatif.\n",
    "\n",
    "L'équipe de CesiCDP, composée de 4 personnes, chargée de répondre à l'appel de l'ADEME. L'objectif est de remporter de nouveaux marchés bénéficiant de financements attractifs afin de poursuivre le développement de notre activité.\n",
    "\n",
    "CesiCDP a décidé de se concentrer sur l'étude de la gestion des tournées de livraison. Le problème algorithmique consiste à calculer une tournée sur un réseau routier reliant un sous-ensemble de villes, tout en minimisant la durée totale de la tournée, de sorte à revenir au point de départ.\n",
    "\n",
    "L'idée est de proposer une méthode basée sur la Recherche Opérationnelle pour générer une tournée de livraison répondant à ce problème.\n",
    "\n",
    "Le périmètre du projet doit encore être précisé. Nous avons décrit une version de base du problème, mais afin de le rendre plus réaliste et d'attirer toute l'attention de l'ADEME,il nous faudra ajouter une ou des contraintes supplémentaires. Cela rendra le problème plus complexe à résoudre.\n",
    "\n",
    "### Version de base\n",
    "\n",
    "- Choix d'un modèle et d'un code en Python capable de résoudre des instances de taille importante (plusieurs milliers de villes).\n",
    "- Étude statistique du comportement expérimental de l'algorithme.\n",
    "\n",
    "### Contraintes supplémentaires\n",
    "\n",
    "Voici une liste non exhaustive de contraintes qui pourraient être intégrées au périmètre de notre étude.\n",
    "\n",
    "Certaines contraintes disposent également de versions avancées.\n",
    "\n",
    "- Fenêtre de temps de livraison pour chaque objet\n",
    "    - Interdiction de livrer hors de la fenêtre\n",
    "    - Possibilité d'attendre sur place l'ouverture de la fenêtre temporelle\n",
    "\n",
    "- Disponibilité simultanée de k camions pour effectuer les livraisons\n",
    "    - Capacité des camions (2 ou 3 dimensions) et encombrement des objets\n",
    "    - Certains objets ne peuvent être livrés que par certains camions\n",
    "- Chaque objet a un point de collecte spécifique\n",
    "- Le temps de parcours d’une arête varie au cours du temps (ce qui revient à faire varier sa longueur), pour représenter la variation du trafic"
   ],
   "metadata": {
    "collapsed": false
   }
  },
  {
   "cell_type": "markdown",
   "source": [
    "### GIT Naming Convention\n",
    "Nous utilisons la convention suivante : https://www.conventionalcommits.org/en/v1.0.0/\n",
    "\n",
    "fix(vue) dans le cas où nous corrigeons un bug\n",
    "docs(UML) dans le cas de modifications mineures du texte ou des livrables\n",
    "feat(backup) ajout d'une nouvelle fonctionnalité\n",
    "BREAKING CHANGE:Explications si vous changez un élément critique de l'application\n",
    "Dans le cas d'une rupture composée d'un correctif ou d'un élément structurel, vous pouvez ajouter une explication.\n",
    "fix !(vue) : Commentaire"
   ],
   "metadata": {
    "collapsed": false
   }
  },
  {
   "cell_type": "markdown",
   "source": [],
   "metadata": {
    "collapsed": false
   }
  },
  {
   "cell_type": "markdown",
   "source": [
    "Notre projet se rapproche donc de celui du Voyageur de Commerce.\n",
    "On veut prouver que le projet ADEME est NP-Difficile et par extension NP-Complet.\n",
    "\n",
    "On cherche donc à prouver que le Voyageur de Commerce est NP-Complet car si ADEME est au moins tout aussi difficile que celui du voyageur et qu'il est NP-Complet alors notre projet est lui aussi NP-Complet.\n",
    "\n",
    "Rappelons la définition d'un problème NP-Complet :\n",
    "Un problème est NP-Complet si :\n",
    "    - Il est contenu dans NP\n",
    "    - Il est contenu dans NP-Difficile\n",
    "\n"
   ],
   "metadata": {
    "collapsed": false
   }
  },
  {
   "cell_type": "markdown",
   "source": [
    "### Variables de Decisions"
   ],
   "metadata": {
    "collapsed": false
   }
  },
  {
   "cell_type": "markdown",
   "source": [
    "#### Variables :\n",
    "$ x_{ij} $ : variable d'état booléene symbolisant si l'arête est dans la solution."
   ],
   "metadata": {
    "collapsed": false
   }
  },
  {
   "cell_type": "markdown",
   "source": [
    "#### Variables Constantes :\n",
    "$ c_{ij} $ : coût fixe de l'arête"
   ],
   "metadata": {
    "collapsed": false
   }
  },
  {
   "cell_type": "markdown",
   "source": [
    "### Contraintes :\n",
    "- Passer une seule et unique fois par chaque ville.\n",
    "- Revenir au depot, au point de départ.\n",
    "- En arrivant sur un nœud, on repart systématiquement de celui-ci.\n",
    "- On ne peut faire de boucle et revenir sur son propre nœud.\n"
   ],
   "metadata": {
    "collapsed": false
   }
  },
  {
   "cell_type": "markdown",
   "source": [
    "### Fonction Objectif :\n",
    "On cherche à minimiser le coût de transport lié aux arêtes.\n",
    "\n",
    "$ FMin = \\sum_{i\\in N} \\sum_{j\\in N} \\times x_{ij} \\times c_ij $<br>\n",
    "$ \\sum_{x_oi} = 1  $<br>\n",
    "$ \\sum_{x_jo} = 1  $<br>\n",
    "$ \\sum_{x_ii} = 0  $<br>\n",
    "$ \\sum_{i\\in N}x_ij = 1 \\forall i\\in N  $<br>\n",
    "$ \\sum_{i\\in N}x_ij = 1 \\forall j\\in N  $<br>\n",
    "$ t_i + c_ij - R(1-x_ij) < t_j  $<br>"
   ],
   "metadata": {
    "collapsed": false
   }
  },
  {
   "cell_type": "markdown",
   "source": [
    "### Complexité du Problème\n",
    "\n",
    "Rappel : Un problème est NP Complet si et seulement s'il fait partis de NP et peut être réduit à un problème similaire qui est dit NP Complet. Alors notre problème est dit au moins aussi complet que celui pour lequel il a été réduit. Il est donc lui aussi NP Complet.\n",
    "\n",
    "#### Demonstration de la NP Complétude de notre problème :\n",
    "\n",
    "Démontrons tout d'abord que notre problème est dans NP :\n",
    "\n",
    "Afin de démontrer son appartenance à NP, nous devons verifier si un certificat peut être vérifié en temps polynomial.\n",
    "\n",
    "Dans notre problème nous possédons :\n",
    "- Une suite de sommets formant un circuit. Ce circuit forme une boucle partant d'un point de départ passant par chaque sommet le plus proche et arrivant à ce même point. -> Cela peut se vérifier en temps linéaire $ O_n $\n",
    "- L'on passe qu'une seule et unique fois par chaque sommet -> Cela peut se vérifier en temps linéaire $ O_n $\n",
    "- Il faut que la somme du poids des arêtes parcourues donc le coup du circuit soit inférieur à $ k $ -> Cela peut se vérifier en temps constant $ O_1 $\n",
    "\n",
    "L'on possède donc un problème possédant les caractéristiques suivantes, nous avons donc vérifié que celui-ci est en temps linéaire.\n",
    "L'on peut affirmer qu'il est verifiable en temps polynomial.\n",
    "Notre problème appartient donc à NP"
   ],
   "metadata": {
    "collapsed": false
   }
  },
  {
   "cell_type": "markdown",
   "source": [
    "Passons à la démonstration afin de prouver son appartenance à NP Complet :\n",
    "\n",
    "Notre problème peut être réduit à celui du voyageur de commerce que l'on sait NP Difficile.\n",
    "Notre problème d'optimisation est donc au moins aussi difficile que celui du voyageur de commerce.\n",
    "Notre problème étant dans NP et NP Difficile, il est au moins aussi difficile que le voyageur du commerce, et donc également NP Complet."
   ],
   "metadata": {
    "collapsed": false
   }
  },
  {
   "cell_type": "markdown",
   "source": [],
   "metadata": {
    "collapsed": false
   }
  },
  {
   "cell_type": "code",
   "execution_count": null,
   "outputs": [],
   "source": [],
   "metadata": {
    "collapsed": false
   }
  }
 ],
 "metadata": {
  "kernelspec": {
   "display_name": "Python 3",
   "language": "python",
   "name": "python3"
  },
  "language_info": {
   "codemirror_mode": {
    "name": "ipython",
    "version": 2
   },
   "file_extension": ".py",
   "mimetype": "text/x-python",
   "name": "python",
   "nbconvert_exporter": "python",
   "pygments_lexer": "ipython2",
   "version": "2.7.6"
  }
 },
 "nbformat": 4,
 "nbformat_minor": 0
}
